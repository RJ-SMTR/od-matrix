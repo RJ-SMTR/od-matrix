{
 "cells": [
  {
   "cell_type": "markdown",
   "metadata": {
    "toc": true
   },
   "source": [
    "<h1>Table of Contents<span class=\"tocSkip\"></span></h1>\n",
    "<div class=\"toc\" style=\"margin-top: 1em;\"><ul class=\"toc-item\"></ul></div>"
   ]
  },
  {
   "cell_type": "code",
   "execution_count": 2,
   "metadata": {
    "ExecuteTime": {
     "end_time": "2021-06-28T15:12:48.893828Z",
     "start_time": "2021-06-28T15:12:48.888801Z"
    },
    "collapsed": true
   },
   "outputs": [],
   "source": [
    "import pandas as pd\n",
    "from collections import defaultdict\n",
    "import random\n",
    "from datetime import datetime\n",
    "import basedosdados as bd"
   ]
  },
  {
   "cell_type": "raw",
   "metadata": {},
   "source": [
    "COD_VEICULO              = NR_ESTAC_CARRO    ---> Nr. da estação ou carro                 \n",
    "VALIDADOR                = NR_VALID          ---> Número do Validador                     \n",
    "NR_CHIP_VEICULO          = NR_CHIP_CARTAO_CC ---> Nr. do chip do cartao com contato       \n",
    "NUMERO_CARTAO            = NR_CARTAO_SC      ---> Nr. do cartao sem contato               \n",
    "DATA_HORA_TRANSACAO      = DT_TRANS          ---> Data de transação (data+hora)           \n",
    "MODAL                    =                   ---> Tipo de transporte utilizado pelo usuário\n",
    "CD_OPERADORA             = CD_OPERAD         ---> Código da operadora (Identificador gerado pela RIOCARD)             \n",
    "OPERADORA                = NM_RAZAO_SOCIAL   ---> NOME DA RAZAO SOCIAL                     \n",
    "CD_LINHA                 = CD_LINHA          ---> Código da linha (Identificador gerado pela RIOCARD)                 \n",
    "NR_LINHA                 = NR_LINHA          ---> Nr. da linha de operação"
   ]
  },
  {
   "cell_type": "code",
   "execution_count": 4,
   "metadata": {
    "ExecuteTime": {
     "end_time": "2021-06-28T15:14:00.785577Z",
     "start_time": "2021-06-28T15:13:58.973978Z"
    },
    "collapsed": true
   },
   "outputs": [
    {
     "name": "stdout",
     "output_type": "stream",
     "text": [
      "\n",
      "table_id: \n",
      "\taux_registros_velocidade_carro \n",
      "-----------------------------------------------------------------------------------------------\n",
      "table_id: \n",
      "\taux_registros_velocidade_status \n",
      "-----------------------------------------------------------------------------------------------\n",
      "table_id: \n",
      "\tregistros \n",
      "-----------------------------------------------------------------------------------------------\n",
      "table_id: \n",
      "\tregistros_tratada \n",
      "-----------------------------------------------------------------------------------------------\n",
      "table_id: \n",
      "\tregistros_tratada_8_dias \n",
      "-----------------------------------------------------------------------------------------------\n",
      "table_id: \n",
      "\tregistros_tratada_velocidade \n",
      "-----------------------------------------------------------------------------------------------\n",
      "\n"
     ]
    }
   ],
   "source": [
    "bd.list_dataset_tables('br_rj_riodejaneiro_brt_gps', 'rj-smtr')"
   ]
  },
  {
   "cell_type": "code",
   "execution_count": 11,
   "metadata": {
    "ExecuteTime": {
     "end_time": "2021-06-28T18:12:46.612533Z",
     "start_time": "2021-06-28T18:12:45.027864Z"
    },
    "collapsed": true
   },
   "outputs": [
    {
     "name": "stdout",
     "output_type": "stream",
     "text": [
      "\n",
      "name: \n",
      "\tordem \n",
      "field_type: \n",
      "\tSTRING \n",
      "description: \n",
      "\tNone \n",
      "-----------------------------------------------------------------------------------------------\n",
      "name: \n",
      "\tlatitude \n",
      "field_type: \n",
      "\tFLOAT \n",
      "description: \n",
      "\tNone \n",
      "-----------------------------------------------------------------------------------------------\n",
      "name: \n",
      "\tlongitude \n",
      "field_type: \n",
      "\tFLOAT \n",
      "description: \n",
      "\tNone \n",
      "-----------------------------------------------------------------------------------------------\n",
      "name: \n",
      "\ttimestamp_gps \n",
      "field_type: \n",
      "\tDATETIME \n",
      "description: \n",
      "\tNone \n",
      "-----------------------------------------------------------------------------------------------\n",
      "name: \n",
      "\tvelocidade \n",
      "field_type: \n",
      "\tINTEGER \n",
      "description: \n",
      "\tNone \n",
      "-----------------------------------------------------------------------------------------------\n",
      "name: \n",
      "\tlinha \n",
      "field_type: \n",
      "\tSTRING \n",
      "description: \n",
      "\tNone \n",
      "-----------------------------------------------------------------------------------------------\n",
      "name: \n",
      "\ttimestamp_captura \n",
      "field_type: \n",
      "\tDATETIME \n",
      "description: \n",
      "\tNone \n",
      "-----------------------------------------------------------------------------------------------\n",
      "name: \n",
      "\tdata \n",
      "field_type: \n",
      "\tDATE \n",
      "description: \n",
      "\tNone \n",
      "-----------------------------------------------------------------------------------------------\n",
      "name: \n",
      "\thora \n",
      "field_type: \n",
      "\tINTEGER \n",
      "description: \n",
      "\tNone \n",
      "-----------------------------------------------------------------------------------------------\n",
      "\n"
     ]
    }
   ],
   "source": [
    "bd.get_table_columns('br_rj_riodejaneiro_onibus_gps', 'registros',  'rj-smtr')"
   ]
  },
  {
   "cell_type": "code",
   "execution_count": 23,
   "metadata": {
    "ExecuteTime": {
     "end_time": "2021-06-28T18:20:15.572486Z",
     "start_time": "2021-06-28T18:20:14.017375Z"
    }
   },
   "outputs": [
    {
     "name": "stdout",
     "output_type": "stream",
     "text": [
      "\n",
      "table_id: \n",
      "\tagency \n",
      "-----------------------------------------------------------------------------------------------\n",
      "table_id: \n",
      "\tcalendar \n",
      "-----------------------------------------------------------------------------------------------\n",
      "table_id: \n",
      "\tfrequencies \n",
      "-----------------------------------------------------------------------------------------------\n",
      "table_id: \n",
      "\trealized_trips_planned \n",
      "-----------------------------------------------------------------------------------------------\n",
      "table_id: \n",
      "\troutes \n",
      "-----------------------------------------------------------------------------------------------\n",
      "table_id: \n",
      "\tshapes \n",
      "-----------------------------------------------------------------------------------------------\n",
      "table_id: \n",
      "\tstop_times \n",
      "-----------------------------------------------------------------------------------------------\n",
      "table_id: \n",
      "\tstops \n",
      "-----------------------------------------------------------------------------------------------\n",
      "table_id: \n",
      "\ttrips \n",
      "-----------------------------------------------------------------------------------------------\n",
      "\n"
     ]
    }
   ],
   "source": [
    "bd.list_dataset_tables('br_rj_riodejaneiro_gtfs_planned', 'rj-smtr')"
   ]
  },
  {
   "cell_type": "code",
   "execution_count": 24,
   "metadata": {
    "ExecuteTime": {
     "end_time": "2021-06-28T18:20:48.304846Z",
     "start_time": "2021-06-28T18:20:44.253223Z"
    }
   },
   "outputs": [
    {
     "name": "stderr",
     "output_type": "stream",
     "text": [
      "Downloading: 100%|██████████| 424/424 [00:00<00:00, 586.55rows/s]\n"
     ]
    }
   ],
   "source": [
    "stops_brt = bd.read_sql(\n",
    "    \"\"\"\n",
    "    SELECT *\n",
    "    FROM rj-smtr.br_rj_riodejaneiro_gtfs_planned.stops\n",
    "    \"\"\", \n",
    "    'rj-smtr'\n",
    ")"
   ]
  },
  {
   "cell_type": "code",
   "execution_count": 25,
   "metadata": {
    "ExecuteTime": {
     "end_time": "2021-06-28T18:20:49.998726Z",
     "start_time": "2021-06-28T18:20:49.950640Z"
    }
   },
   "outputs": [
    {
     "data": {
      "text/html": [
       "<div>\n",
       "<style scoped>\n",
       "    .dataframe tbody tr th:only-of-type {\n",
       "        vertical-align: middle;\n",
       "    }\n",
       "\n",
       "    .dataframe tbody tr th {\n",
       "        vertical-align: top;\n",
       "    }\n",
       "\n",
       "    .dataframe thead th {\n",
       "        text-align: right;\n",
       "    }\n",
       "</style>\n",
       "<table border=\"1\" class=\"dataframe\">\n",
       "  <thead>\n",
       "    <tr style=\"text-align: right;\">\n",
       "      <th></th>\n",
       "      <th>stop_id</th>\n",
       "      <th>stop_name</th>\n",
       "      <th>stop_desc</th>\n",
       "      <th>stop_lat</th>\n",
       "      <th>stop_lon</th>\n",
       "      <th>location_type</th>\n",
       "      <th>parent_station</th>\n",
       "      <th>corridor</th>\n",
       "      <th>active</th>\n",
       "      <th>stop_code</th>\n",
       "      <th>tts_stop_name</th>\n",
       "      <th>zone_id</th>\n",
       "      <th>stop_url</th>\n",
       "      <th>stop_timezone</th>\n",
       "      <th>wheelchair_boarding</th>\n",
       "      <th>level_id</th>\n",
       "      <th>platform_code</th>\n",
       "      <th>gtfs_version_date</th>\n",
       "    </tr>\n",
       "  </thead>\n",
       "  <tbody>\n",
       "    <tr>\n",
       "      <th>0</th>\n",
       "      <td>51914872030</td>\n",
       "      <td>31 de Outubro</td>\n",
       "      <td>Avenida Cesário de Melo próximo ao 11270</td>\n",
       "      <td>-22.91825</td>\n",
       "      <td>-43.63906</td>\n",
       "      <td>1</td>\n",
       "      <td>None</td>\n",
       "      <td>BRT Transoeste</td>\n",
       "      <td>0</td>\n",
       "      <td>None</td>\n",
       "      <td>None</td>\n",
       "      <td>None</td>\n",
       "      <td>None</td>\n",
       "      <td>None</td>\n",
       "      <td>None</td>\n",
       "      <td>None</td>\n",
       "      <td>None</td>\n",
       "      <td>2021-04-19 03:00:00</td>\n",
       "    </tr>\n",
       "    <tr>\n",
       "      <th>1</th>\n",
       "      <td>519148720370</td>\n",
       "      <td>31 de Outubro</td>\n",
       "      <td>Avenida Cesário de Melo próximo ao 11270</td>\n",
       "      <td>-22.91818</td>\n",
       "      <td>-43.63904</td>\n",
       "      <td>0</td>\n",
       "      <td>51914872030</td>\n",
       "      <td>BRT Transoeste</td>\n",
       "      <td>0</td>\n",
       "      <td>None</td>\n",
       "      <td>None</td>\n",
       "      <td>None</td>\n",
       "      <td>None</td>\n",
       "      <td>None</td>\n",
       "      <td>None</td>\n",
       "      <td>None</td>\n",
       "      <td>None</td>\n",
       "      <td>2021-04-19 03:00:00</td>\n",
       "    </tr>\n",
       "    <tr>\n",
       "      <th>2</th>\n",
       "      <td>519148720371</td>\n",
       "      <td>31 de Outubro</td>\n",
       "      <td>Avenida Cesário de Melo próximo ao 11270</td>\n",
       "      <td>-22.91825</td>\n",
       "      <td>-43.63897</td>\n",
       "      <td>0</td>\n",
       "      <td>51914872030</td>\n",
       "      <td>BRT Transoeste</td>\n",
       "      <td>0</td>\n",
       "      <td>None</td>\n",
       "      <td>None</td>\n",
       "      <td>None</td>\n",
       "      <td>None</td>\n",
       "      <td>None</td>\n",
       "      <td>None</td>\n",
       "      <td>None</td>\n",
       "      <td>None</td>\n",
       "      <td>2021-04-19 03:00:00</td>\n",
       "    </tr>\n",
       "    <tr>\n",
       "      <th>3</th>\n",
       "      <td>42412873020</td>\n",
       "      <td>Aeroporto de Jacarepaguá</td>\n",
       "      <td>Aeroporto de Jacarepaguá. S/N</td>\n",
       "      <td>-22.98903</td>\n",
       "      <td>-43.36581</td>\n",
       "      <td>1</td>\n",
       "      <td>None</td>\n",
       "      <td>BRT Transcarioca</td>\n",
       "      <td>1</td>\n",
       "      <td>None</td>\n",
       "      <td>None</td>\n",
       "      <td>None</td>\n",
       "      <td>None</td>\n",
       "      <td>None</td>\n",
       "      <td>None</td>\n",
       "      <td>None</td>\n",
       "      <td>None</td>\n",
       "      <td>2021-04-19 03:00:00</td>\n",
       "    </tr>\n",
       "    <tr>\n",
       "      <th>4</th>\n",
       "      <td>424128730270</td>\n",
       "      <td>Aeroporto de Jacarepaguá</td>\n",
       "      <td>Aeroporto de Jacarepaguá. S/N</td>\n",
       "      <td>-22.98903</td>\n",
       "      <td>-43.36584</td>\n",
       "      <td>0</td>\n",
       "      <td>42412873020</td>\n",
       "      <td>BRT Transcarioca</td>\n",
       "      <td>1</td>\n",
       "      <td>None</td>\n",
       "      <td>None</td>\n",
       "      <td>None</td>\n",
       "      <td>None</td>\n",
       "      <td>None</td>\n",
       "      <td>None</td>\n",
       "      <td>None</td>\n",
       "      <td>None</td>\n",
       "      <td>2021-04-19 03:00:00</td>\n",
       "    </tr>\n",
       "    <tr>\n",
       "      <th>...</th>\n",
       "      <td>...</td>\n",
       "      <td>...</td>\n",
       "      <td>...</td>\n",
       "      <td>...</td>\n",
       "      <td>...</td>\n",
       "      <td>...</td>\n",
       "      <td>...</td>\n",
       "      <td>...</td>\n",
       "      <td>...</td>\n",
       "      <td>...</td>\n",
       "      <td>...</td>\n",
       "      <td>...</td>\n",
       "      <td>...</td>\n",
       "      <td>...</td>\n",
       "      <td>...</td>\n",
       "      <td>...</td>\n",
       "      <td>...</td>\n",
       "      <td>...</td>\n",
       "    </tr>\n",
       "    <tr>\n",
       "      <th>419</th>\n",
       "      <td>416115730470</td>\n",
       "      <td>Vila Sapê - IV Centenário</td>\n",
       "      <td>Estrada dos Bandeirantes próximo ao 3293</td>\n",
       "      <td>-22.95217</td>\n",
       "      <td>-43.37460</td>\n",
       "      <td>0</td>\n",
       "      <td>41611573040</td>\n",
       "      <td>BRT Transcarioca</td>\n",
       "      <td>1</td>\n",
       "      <td>None</td>\n",
       "      <td>None</td>\n",
       "      <td>None</td>\n",
       "      <td>None</td>\n",
       "      <td>None</td>\n",
       "      <td>None</td>\n",
       "      <td>None</td>\n",
       "      <td>None</td>\n",
       "      <td>2021-04-19 03:00:00</td>\n",
       "    </tr>\n",
       "    <tr>\n",
       "      <th>420</th>\n",
       "      <td>416115730471</td>\n",
       "      <td>Vila Sapê - IV Centenário</td>\n",
       "      <td>Estrada dos Bandeirantes próximo ao 3293</td>\n",
       "      <td>-22.95221</td>\n",
       "      <td>-43.37453</td>\n",
       "      <td>0</td>\n",
       "      <td>41611573040</td>\n",
       "      <td>BRT Transcarioca</td>\n",
       "      <td>1</td>\n",
       "      <td>None</td>\n",
       "      <td>None</td>\n",
       "      <td>None</td>\n",
       "      <td>None</td>\n",
       "      <td>None</td>\n",
       "      <td>None</td>\n",
       "      <td>None</td>\n",
       "      <td>None</td>\n",
       "      <td>2021-04-19 03:00:00</td>\n",
       "    </tr>\n",
       "    <tr>\n",
       "      <th>421</th>\n",
       "      <td>51814672040</td>\n",
       "      <td>Vilar Carioca</td>\n",
       "      <td>Avenida Cesário de Melo próximo ao 54</td>\n",
       "      <td>-22.91418</td>\n",
       "      <td>-43.60133</td>\n",
       "      <td>1</td>\n",
       "      <td>None</td>\n",
       "      <td>BRT Transoeste</td>\n",
       "      <td>0</td>\n",
       "      <td>None</td>\n",
       "      <td>None</td>\n",
       "      <td>None</td>\n",
       "      <td>None</td>\n",
       "      <td>None</td>\n",
       "      <td>None</td>\n",
       "      <td>None</td>\n",
       "      <td>None</td>\n",
       "      <td>2021-04-19 03:00:00</td>\n",
       "    </tr>\n",
       "    <tr>\n",
       "      <th>422</th>\n",
       "      <td>518146720470</td>\n",
       "      <td>Vilar Carioca</td>\n",
       "      <td>Avenida Cesário de Melo próximo ao 54</td>\n",
       "      <td>-22.91414</td>\n",
       "      <td>-43.60127</td>\n",
       "      <td>0</td>\n",
       "      <td>51814672040</td>\n",
       "      <td>BRT Transoeste</td>\n",
       "      <td>0</td>\n",
       "      <td>None</td>\n",
       "      <td>None</td>\n",
       "      <td>None</td>\n",
       "      <td>None</td>\n",
       "      <td>None</td>\n",
       "      <td>None</td>\n",
       "      <td>None</td>\n",
       "      <td>None</td>\n",
       "      <td>2021-04-19 03:00:00</td>\n",
       "    </tr>\n",
       "    <tr>\n",
       "      <th>423</th>\n",
       "      <td>518146720471</td>\n",
       "      <td>Vilar Carioca</td>\n",
       "      <td>Avenida Cesário de Melo próximo ao 54</td>\n",
       "      <td>-22.91422</td>\n",
       "      <td>-43.60127</td>\n",
       "      <td>0</td>\n",
       "      <td>51814672040</td>\n",
       "      <td>BRT Transoeste</td>\n",
       "      <td>0</td>\n",
       "      <td>None</td>\n",
       "      <td>None</td>\n",
       "      <td>None</td>\n",
       "      <td>None</td>\n",
       "      <td>None</td>\n",
       "      <td>None</td>\n",
       "      <td>None</td>\n",
       "      <td>None</td>\n",
       "      <td>2021-04-19 03:00:00</td>\n",
       "    </tr>\n",
       "  </tbody>\n",
       "</table>\n",
       "<p>424 rows × 18 columns</p>\n",
       "</div>"
      ],
      "text/plain": [
       "          stop_id                  stop_name  \\\n",
       "0     51914872030              31 de Outubro   \n",
       "1    519148720370              31 de Outubro   \n",
       "2    519148720371              31 de Outubro   \n",
       "3     42412873020   Aeroporto de Jacarepaguá   \n",
       "4    424128730270   Aeroporto de Jacarepaguá   \n",
       "..            ...                        ...   \n",
       "419  416115730470  Vila Sapê - IV Centenário   \n",
       "420  416115730471  Vila Sapê - IV Centenário   \n",
       "421   51814672040              Vilar Carioca   \n",
       "422  518146720470              Vilar Carioca   \n",
       "423  518146720471              Vilar Carioca   \n",
       "\n",
       "                                    stop_desc  stop_lat  stop_lon  \\\n",
       "0    Avenida Cesário de Melo próximo ao 11270 -22.91825 -43.63906   \n",
       "1    Avenida Cesário de Melo próximo ao 11270 -22.91818 -43.63904   \n",
       "2    Avenida Cesário de Melo próximo ao 11270 -22.91825 -43.63897   \n",
       "3               Aeroporto de Jacarepaguá. S/N -22.98903 -43.36581   \n",
       "4               Aeroporto de Jacarepaguá. S/N -22.98903 -43.36584   \n",
       "..                                        ...       ...       ...   \n",
       "419  Estrada dos Bandeirantes próximo ao 3293 -22.95217 -43.37460   \n",
       "420  Estrada dos Bandeirantes próximo ao 3293 -22.95221 -43.37453   \n",
       "421     Avenida Cesário de Melo próximo ao 54 -22.91418 -43.60133   \n",
       "422     Avenida Cesário de Melo próximo ao 54 -22.91414 -43.60127   \n",
       "423     Avenida Cesário de Melo próximo ao 54 -22.91422 -43.60127   \n",
       "\n",
       "     location_type parent_station          corridor  active stop_code  \\\n",
       "0                1           None    BRT Transoeste       0      None   \n",
       "1                0    51914872030    BRT Transoeste       0      None   \n",
       "2                0    51914872030    BRT Transoeste       0      None   \n",
       "3                1           None  BRT Transcarioca       1      None   \n",
       "4                0    42412873020  BRT Transcarioca       1      None   \n",
       "..             ...            ...               ...     ...       ...   \n",
       "419              0    41611573040  BRT Transcarioca       1      None   \n",
       "420              0    41611573040  BRT Transcarioca       1      None   \n",
       "421              1           None    BRT Transoeste       0      None   \n",
       "422              0    51814672040    BRT Transoeste       0      None   \n",
       "423              0    51814672040    BRT Transoeste       0      None   \n",
       "\n",
       "    tts_stop_name zone_id stop_url stop_timezone wheelchair_boarding level_id  \\\n",
       "0            None    None     None          None                None     None   \n",
       "1            None    None     None          None                None     None   \n",
       "2            None    None     None          None                None     None   \n",
       "3            None    None     None          None                None     None   \n",
       "4            None    None     None          None                None     None   \n",
       "..            ...     ...      ...           ...                 ...      ...   \n",
       "419          None    None     None          None                None     None   \n",
       "420          None    None     None          None                None     None   \n",
       "421          None    None     None          None                None     None   \n",
       "422          None    None     None          None                None     None   \n",
       "423          None    None     None          None                None     None   \n",
       "\n",
       "    platform_code   gtfs_version_date  \n",
       "0            None 2021-04-19 03:00:00  \n",
       "1            None 2021-04-19 03:00:00  \n",
       "2            None 2021-04-19 03:00:00  \n",
       "3            None 2021-04-19 03:00:00  \n",
       "4            None 2021-04-19 03:00:00  \n",
       "..            ...                 ...  \n",
       "419          None 2021-04-19 03:00:00  \n",
       "420          None 2021-04-19 03:00:00  \n",
       "421          None 2021-04-19 03:00:00  \n",
       "422          None 2021-04-19 03:00:00  \n",
       "423          None 2021-04-19 03:00:00  \n",
       "\n",
       "[424 rows x 18 columns]"
      ]
     },
     "execution_count": 25,
     "metadata": {},
     "output_type": "execute_result"
    }
   ],
   "source": [
    "stops_brt"
   ]
  },
  {
   "cell_type": "code",
   "execution_count": 8,
   "metadata": {
    "ExecuteTime": {
     "end_time": "2021-06-28T15:16:47.702612Z",
     "start_time": "2021-06-28T15:16:14.991523Z"
    }
   },
   "outputs": [
    {
     "name": "stderr",
     "output_type": "stream",
     "text": [
      "Downloading: 100%|██████████| 28/28 [00:00<00:00, 71.90rows/s]\n"
     ]
    }
   ],
   "source": [
    "linhas_brt = bd.read_sql(\n",
    "    \"\"\"\n",
    "    SELECT DISTINCT linha\n",
    "    FROM rj-smtr.br_rj_riodejaneiro_brt_gps.registros_tratada_8_dias\n",
    "    \"\"\", \n",
    "    'rj-smtr'\n",
    ")"
   ]
  },
  {
   "cell_type": "code",
   "execution_count": 10,
   "metadata": {
    "ExecuteTime": {
     "end_time": "2021-06-28T15:17:57.100410Z",
     "start_time": "2021-06-28T15:17:22.339628Z"
    },
    "scrolled": true
   },
   "outputs": [
    {
     "name": "stderr",
     "output_type": "stream",
     "text": [
      "Downloading: 100%|██████████| 227/227 [00:00<00:00, 507.18rows/s]\n"
     ]
    }
   ],
   "source": [
    "cod_veiculo_brt = bd.read_sql(\n",
    "    \"\"\"\n",
    "    SELECT DISTINCT codigo\n",
    "    FROM rj-smtr.br_rj_riodejaneiro_brt_gps.registros_tratada_8_dias\n",
    "    \"\"\", \n",
    "    'rj-smtr'\n",
    ")"
   ]
  },
  {
   "cell_type": "code",
   "execution_count": 17,
   "metadata": {
    "ExecuteTime": {
     "end_time": "2021-06-28T18:16:35.793708Z",
     "start_time": "2021-06-28T18:15:59.694123Z"
    }
   },
   "outputs": [
    {
     "name": "stderr",
     "output_type": "stream",
     "text": [
      "Downloading: 100%|██████████| 4983/4983 [00:01<00:00, 4229.41rows/s]\n"
     ]
    }
   ],
   "source": [
    "cod_veiculo_onibus = bd.read_sql(\n",
    "    \"\"\"\n",
    "    SELECT DISTINCT ordem codigo\n",
    "    FROM rj-smtr.br_rj_riodejaneiro_onibus_gps.registros\n",
    "    WHERE data between '2021-06-13' and '2021-06-25'\n",
    "    \"\"\", \n",
    "    'rj-smtr'\n",
    ")"
   ]
  },
  {
   "cell_type": "code",
   "execution_count": 18,
   "metadata": {
    "ExecuteTime": {
     "end_time": "2021-06-28T18:17:06.971049Z",
     "start_time": "2021-06-28T18:16:36.018103Z"
    }
   },
   "outputs": [
    {
     "name": "stderr",
     "output_type": "stream",
     "text": [
      "Downloading: 100%|██████████| 389/389 [00:00<00:00, 914.26rows/s]\n"
     ]
    }
   ],
   "source": [
    "linha_onibus = bd.read_sql(\n",
    "    \"\"\"\n",
    "    SELECT DISTINCT linha\n",
    "    FROM rj-smtr.br_rj_riodejaneiro_onibus_gps.registros\n",
    "    WHERE data between '2021-06-13' and '2021-06-25'\n",
    "    \"\"\", \n",
    "    'rj-smtr'\n",
    ")"
   ]
  },
  {
   "cell_type": "code",
   "execution_count": null,
   "metadata": {
    "collapsed": true
   },
   "outputs": [],
   "source": [
    "columns = [\n",
    "\"COD_VEICULO\",\n",
    "\"VALIDADOR\",\n",
    "\"NR_CHIP_VEICULO\",\n",
    "\"NUMERO_CARTAO\",\n",
    "\"DATA_HORA_TRANSACAO\",\n",
    "\"MODAL\",\n",
    "\"CD_OPERADORA\",\n",
    "\"OPERADORA\",\n",
    "\"CD_LINHA\",\n",
    "\"NR_LINHA\",]\n",
    "\n",
    "datum = defaultdict(lambda: None)"
   ]
  },
  {
   "cell_type": "code",
   "execution_count": 35,
   "metadata": {
    "ExecuteTime": {
     "end_time": "2021-06-29T21:55:14.844701Z",
     "start_time": "2021-06-29T21:55:14.828424Z"
    },
    "collapsed": true
   },
   "outputs": [],
   "source": [
    "# 2 way trip\n",
    "\n",
    "n_cartao = random.randint(1, 1000)\n",
    "date = '2021-06-26'\n",
    "way = 'inbound'\n",
    "mode = 'BRT'\n",
    "cd_operadora = 'XXXX'\n",
    "operadora = 'XXXX'\n",
    "nr_linha = '234'\n",
    "cd_linha = '234'\n",
    "cod_veiculo = 'YYYY'\n",
    "validador = None\n",
    "chip_veiculo = None\n",
    "\n",
    "if way == 'inbound':\n",
    "    hour = random.randint(6, 12)\n",
    "elif way == 'outbound':\n",
    "    hour = random.randint(13, 23)\n",
    "\n",
    "\n",
    "\n",
    "datum = dict(\n",
    "    COD_VEICULO = cod_veiculo,\n",
    "    VALIDADOR = validador,\n",
    "    NR_CHIP_VEICULO = chip_veiculo, \n",
    "    NUMERO_CARTAO = n_cartao,\n",
    "    DATA_HORA_TRANSACAO = pd.Timestamp(f'{hour}:{random.randint(0, 59)}:{random.randint(0, 59)}'),\n",
    "    MODAL = mode,\n",
    "    CD_OPERADORA = cd_operadora,\n",
    "    OPERADORA = operadora,\n",
    "    CD_LINHA = cd_linha,\n",
    "    NR_LINHA = nr_linha\n",
    ")\n"
   ]
  },
  {
   "cell_type": "code",
   "execution_count": 36,
   "metadata": {
    "ExecuteTime": {
     "end_time": "2021-06-29T21:55:15.344000Z",
     "start_time": "2021-06-29T21:55:15.325341Z"
    }
   },
   "outputs": [
    {
     "data": {
      "text/plain": [
       "{'COD_VEICULO': 'YYYY',\n",
       " 'VALIDADOR': None,\n",
       " 'NR_CHIP_VEICULO': None,\n",
       " 'NUMERO_CARTAO': 274,\n",
       " 'DATA_HORA_TRANSACAO': Timestamp('2021-06-29 09:53:33'),\n",
       " 'MODAL': 'BRT',\n",
       " 'CD_OPERADORA': 'XXXX',\n",
       " 'OPERADORA': 'XXXX',\n",
       " 'CD_LINHA': '234',\n",
       " 'NR_LINHA': '234'}"
      ]
     },
     "execution_count": 36,
     "metadata": {},
     "output_type": "execute_result"
    }
   ],
   "source": [
    "datum"
   ]
  },
  {
   "cell_type": "code",
   "execution_count": null,
   "metadata": {
    "collapsed": true
   },
   "outputs": [],
   "source": []
  },
  {
   "cell_type": "code",
   "execution_count": null,
   "metadata": {
    "collapsed": true
   },
   "outputs": [],
   "source": []
  }
 ],
 "metadata": {
  "kernelspec": {
   "display_name": "mais",
   "language": "python",
   "name": "mais"
  },
  "language_info": {
   "codemirror_mode": {
    "name": "ipython",
    "version": 3
   },
   "file_extension": ".py",
   "mimetype": "text/x-python",
   "name": "python",
   "nbconvert_exporter": "python",
   "pygments_lexer": "ipython3",
   "version": "3.9.5"
  },
  "toc": {
   "nav_menu": {},
   "number_sections": true,
   "sideBar": true,
   "skip_h1_title": false,
   "toc_cell": true,
   "toc_position": {},
   "toc_section_display": "block",
   "toc_window_display": false
  },
  "varInspector": {
   "cols": {
    "lenName": 16,
    "lenType": 16,
    "lenVar": 40
   },
   "kernels_config": {
    "python": {
     "delete_cmd_postfix": "",
     "delete_cmd_prefix": "del ",
     "library": "var_list.py",
     "varRefreshCmd": "print(var_dic_list())"
    },
    "r": {
     "delete_cmd_postfix": ") ",
     "delete_cmd_prefix": "rm(",
     "library": "var_list.r",
     "varRefreshCmd": "cat(var_dic_list()) "
    }
   },
   "types_to_exclude": [
    "module",
    "function",
    "builtin_function_or_method",
    "instance",
    "_Feature"
   ],
   "window_display": false
  }
 },
 "nbformat": 4,
 "nbformat_minor": 2
}
